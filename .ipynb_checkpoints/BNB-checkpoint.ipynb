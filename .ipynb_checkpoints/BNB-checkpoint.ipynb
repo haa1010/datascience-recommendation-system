{
 "cells": [
  {
   "cell_type": "code",
   "execution_count": 1,
   "metadata": {},
   "outputs": [],
   "source": [
    "import numpy as np\n",
    "import pandas as pd\n",
    "from sklearn.model_selection import train_test_split\n",
    "from sklearn.model_selection import GridSearchCV\n",
    "from sklearn.model_selection import cross_val_score\n",
    "from sklearn import neighbors\n",
    "from sklearn.naive_bayes import BernoulliNB\n",
    "import torch\n",
    "import transformers as ppb\n",
    "import warnings\n",
    "import joblib"
   ]
  },
  {
   "cell_type": "code",
   "execution_count": 2,
   "metadata": {},
   "outputs": [
    {
     "data": {
      "text/html": [
       "<div>\n",
       "<style scoped>\n",
       "    .dataframe tbody tr th:only-of-type {\n",
       "        vertical-align: middle;\n",
       "    }\n",
       "\n",
       "    .dataframe tbody tr th {\n",
       "        vertical-align: top;\n",
       "    }\n",
       "\n",
       "    .dataframe thead th {\n",
       "        text-align: right;\n",
       "    }\n",
       "</style>\n",
       "<table border=\"1\" class=\"dataframe\">\n",
       "  <thead>\n",
       "    <tr style=\"text-align: right;\">\n",
       "      <th></th>\n",
       "      <th>0</th>\n",
       "    </tr>\n",
       "  </thead>\n",
       "  <tbody>\n",
       "    <tr>\n",
       "      <th>0</th>\n",
       "      <td>Text,\"Sentiment\"</td>\n",
       "    </tr>\n",
       "    <tr>\n",
       "      <th>1</th>\n",
       "      <td>ok,2</td>\n",
       "    </tr>\n",
       "    <tr>\n",
       "      <th>2</th>\n",
       "      <td>máy mới sạc chưa sài mà đã hết pin .cảm ứng rấ...</td>\n",
       "    </tr>\n",
       "    <tr>\n",
       "      <th>3</th>\n",
       "      <td>Máy bền, bé làm rơi nhiều lần mà không bị hỏng.,2</td>\n",
       "    </tr>\n",
       "    <tr>\n",
       "      <th>4</th>\n",
       "      <td>Nhưng khi chơi game nhẹ thì OK game nặng giật ...</td>\n",
       "    </tr>\n",
       "    <tr>\n",
       "      <th>...</th>\n",
       "      <td>...</td>\n",
       "    </tr>\n",
       "    <tr>\n",
       "      <th>148</th>\n",
       "      <td>Máy nhẹ, RAM 1.5GB đủ dùng cho các tác vụ nhẹ....</td>\n",
       "    </tr>\n",
       "    <tr>\n",
       "      <th>149</th>\n",
       "      <td>Sử dụng tốt với các nhu cầu cơ bản như xem You...</td>\n",
       "    </tr>\n",
       "    <tr>\n",
       "      <th>150</th>\n",
       "      <td>Tốt trong tầm giá. Máy mới nguyên seal. Mọi th...</td>\n",
       "    </tr>\n",
       "    <tr>\n",
       "      <th>151</th>\n",
       "      <td>Dùng rất tốt, máy nguyên seal và đóng gói cực ...</td>\n",
       "    </tr>\n",
       "    <tr>\n",
       "      <th>152</th>\n",
       "      <td>Sữa rửa mặt nhìn bề ngoài khá ổn, giá rẻ với đ...</td>\n",
       "    </tr>\n",
       "  </tbody>\n",
       "</table>\n",
       "<p>153 rows × 1 columns</p>\n",
       "</div>"
      ],
      "text/plain": [
       "                                                     0\n",
       "0                                     Text,\"Sentiment\"\n",
       "1                                                 ok,2\n",
       "2    máy mới sạc chưa sài mà đã hết pin .cảm ứng rấ...\n",
       "3    Máy bền, bé làm rơi nhiều lần mà không bị hỏng.,2\n",
       "4    Nhưng khi chơi game nhẹ thì OK game nặng giật ...\n",
       "..                                                 ...\n",
       "148  Máy nhẹ, RAM 1.5GB đủ dùng cho các tác vụ nhẹ....\n",
       "149  Sử dụng tốt với các nhu cầu cơ bản như xem You...\n",
       "150  Tốt trong tầm giá. Máy mới nguyên seal. Mọi th...\n",
       "151  Dùng rất tốt, máy nguyên seal và đóng gói cực ...\n",
       "152  Sữa rửa mặt nhìn bề ngoài khá ổn, giá rẻ với đ...\n",
       "\n",
       "[153 rows x 1 columns]"
      ]
     },
     "execution_count": 2,
     "metadata": {},
     "output_type": "execute_result"
    }
   ],
   "source": [
    "df = pd.read_csv('data_crawler.csv', delimiter='\\t', header=None)\n",
    "df"
   ]
  },
  {
   "cell_type": "code",
   "execution_count": 3,
   "metadata": {},
   "outputs": [
    {
     "data": {
      "text/html": [
       "<div>\n",
       "<style scoped>\n",
       "    .dataframe tbody tr th:only-of-type {\n",
       "        vertical-align: middle;\n",
       "    }\n",
       "\n",
       "    .dataframe tbody tr th {\n",
       "        vertical-align: top;\n",
       "    }\n",
       "\n",
       "    .dataframe thead th {\n",
       "        text-align: right;\n",
       "    }\n",
       "</style>\n",
       "<table border=\"1\" class=\"dataframe\">\n",
       "  <thead>\n",
       "    <tr style=\"text-align: right;\">\n",
       "      <th></th>\n",
       "      <th>0</th>\n",
       "    </tr>\n",
       "  </thead>\n",
       "  <tbody>\n",
       "    <tr>\n",
       "      <th>0</th>\n",
       "      <td>Text,\"Sentiment\"</td>\n",
       "    </tr>\n",
       "    <tr>\n",
       "      <th>1</th>\n",
       "      <td>ok,2</td>\n",
       "    </tr>\n",
       "    <tr>\n",
       "      <th>2</th>\n",
       "      <td>máy mới sạc chưa sài mà đã hết pin .cảm ứng rấ...</td>\n",
       "    </tr>\n",
       "    <tr>\n",
       "      <th>3</th>\n",
       "      <td>Máy bền, bé làm rơi nhiều lần mà không bị hỏng.,2</td>\n",
       "    </tr>\n",
       "    <tr>\n",
       "      <th>4</th>\n",
       "      <td>Nhưng khi chơi game nhẹ thì OK game nặng giật ...</td>\n",
       "    </tr>\n",
       "    <tr>\n",
       "      <th>...</th>\n",
       "      <td>...</td>\n",
       "    </tr>\n",
       "    <tr>\n",
       "      <th>148</th>\n",
       "      <td>Máy nhẹ, RAM 1.5GB đủ dùng cho các tác vụ nhẹ....</td>\n",
       "    </tr>\n",
       "    <tr>\n",
       "      <th>149</th>\n",
       "      <td>Sử dụng tốt với các nhu cầu cơ bản như xem You...</td>\n",
       "    </tr>\n",
       "    <tr>\n",
       "      <th>150</th>\n",
       "      <td>Tốt trong tầm giá. Máy mới nguyên seal. Mọi th...</td>\n",
       "    </tr>\n",
       "    <tr>\n",
       "      <th>151</th>\n",
       "      <td>Dùng rất tốt, máy nguyên seal và đóng gói cực ...</td>\n",
       "    </tr>\n",
       "    <tr>\n",
       "      <th>152</th>\n",
       "      <td>Sữa rửa mặt nhìn bề ngoài khá ổn, giá rẻ với đ...</td>\n",
       "    </tr>\n",
       "  </tbody>\n",
       "</table>\n",
       "<p>153 rows × 1 columns</p>\n",
       "</div>"
      ],
      "text/plain": [
       "                                                     0\n",
       "0                                     Text,\"Sentiment\"\n",
       "1                                                 ok,2\n",
       "2    máy mới sạc chưa sài mà đã hết pin .cảm ứng rấ...\n",
       "3    Máy bền, bé làm rơi nhiều lần mà không bị hỏng.,2\n",
       "4    Nhưng khi chơi game nhẹ thì OK game nặng giật ...\n",
       "..                                                 ...\n",
       "148  Máy nhẹ, RAM 1.5GB đủ dùng cho các tác vụ nhẹ....\n",
       "149  Sử dụng tốt với các nhu cầu cơ bản như xem You...\n",
       "150  Tốt trong tầm giá. Máy mới nguyên seal. Mọi th...\n",
       "151  Dùng rất tốt, máy nguyên seal và đóng gói cực ...\n",
       "152  Sữa rửa mặt nhìn bề ngoài khá ổn, giá rẻ với đ...\n",
       "\n",
       "[153 rows x 1 columns]"
      ]
     },
     "execution_count": 3,
     "metadata": {},
     "output_type": "execute_result"
    }
   ],
   "source": [
    "batch_1 = df\n",
    "# print(df)\n",
    "\n",
    "# For DistilBERT:\n",
    "model_class, tokenizer_class, pretrained_weights = (ppb.DistilBertModel, ppb.DistilBertTokenizer, 'distilbert-base-uncased')\n",
    "\n",
    "## Want BERT instead of distilBERT? Uncomment the following line:\n",
    "#model_class, tokenizer_class, pretrained_weights = (ppb.BertModel, ppb.BertTokenizer, 'bert-base-uncased')\n",
    "\n",
    "# Load pretrained model/tokenizer\n",
    "tokenizer = tokenizer_class.from_pretrained(pretrained_weights)\n",
    "model = model_class.from_pretrained(pretrained_weights)\n",
    "# joblib.dump(model, 'tfidf.pkl')\n",
    "tokenized = batch_1[0].apply((lambda x: tokenizer.encode(x, add_special_tokens=True)))\n",
    "batch_1\n"
   ]
  },
  {
   "cell_type": "code",
   "execution_count": 4,
   "metadata": {},
   "outputs": [],
   "source": [
    "# print(len(batch_1[0]))\n",
    "labels = np.zeros(len(batch_1[0]))\n",
    "for i in range(1,len(batch_1[0])):\n",
    "  labels[i]=batch_1[0][i][-1]\n",
    "  \n",
    "# print(labels.shape)\n",
    "\n",
    "max_len = 0\n",
    "for i in tokenized.values:\n",
    "    if len(i) > max_len:\n",
    "        max_len = len(i)\n",
    "\n",
    "padded = np.array([i + [0]*(max_len-len(i)) for i in tokenized.values])\n",
    "\n",
    "np.array(padded).shape\n",
    "\n",
    "attention_mask = np.where(padded != 0, 1, 0)\n",
    "attention_mask.shape\n",
    "\n",
    "input_ids = torch.tensor(padded)  \n",
    "attention_mask = torch.tensor(attention_mask)\n",
    "\n",
    "with torch.no_grad():\n",
    "    last_hidden_states = model(input_ids, attention_mask=attention_mask)\n",
    "\n",
    "features = last_hidden_states[0][:,0,:].numpy()\n",
    "\n",
    "train_features, test_features, train_labels, test_labels = train_test_split(features, labels)\n",
    "# for fe in features:\n",
    "#   print(fe)\n"
   ]
  },
  {
   "cell_type": "code",
   "execution_count": 12,
   "metadata": {},
   "outputs": [
    {
     "data": {
      "text/plain": [
       "array([[-0.04559119, -0.01497078,  0.12948216, ...,  0.08392184,\n",
       "         0.38481405,  0.575976  ],\n",
       "       [-0.06826038,  0.05007839,  0.14735815, ...,  0.16106096,\n",
       "         0.4212752 ,  0.7956115 ],\n",
       "       [-0.18619265, -0.09654202,  0.01770074, ...,  0.0451319 ,\n",
       "         0.24571168,  0.4587084 ],\n",
       "       ...,\n",
       "       [-0.05436573, -0.04995416,  0.28708866, ...,  0.18544985,\n",
       "         0.29911283,  0.5894363 ],\n",
       "       [-0.18324119, -0.01233607, -0.01012737, ...,  0.16034505,\n",
       "         0.4387389 ,  0.5038763 ],\n",
       "       [-0.07638004, -0.1065211 ,  0.14556168, ...,  0.20085165,\n",
       "         0.3316089 ,  0.6139591 ]], dtype=float32)"
      ]
     },
     "execution_count": 12,
     "metadata": {},
     "output_type": "execute_result"
    }
   ],
   "source": [
    "test_features\n"
   ]
  },
  {
   "cell_type": "code",
   "execution_count": 9,
   "metadata": {},
   "outputs": [
    {
     "data": {
      "text/plain": [
       "BernoulliNB(binarize=0.5)"
      ]
     },
     "execution_count": 9,
     "metadata": {},
     "output_type": "execute_result"
    }
   ],
   "source": [
    "lr_clf = BernoulliNB(binarize = .5)\n",
    "lr_clf.fit(train_features, train_labels)\n"
   ]
  },
  {
   "cell_type": "code",
   "execution_count": 10,
   "metadata": {},
   "outputs": [
    {
     "name": "stdout",
     "output_type": "stream",
     "text": [
      "score:  0.7692307692307693\n"
     ]
    }
   ],
   "source": [
    "joblib.dump(lr_clf, 'saved_model.pkl')\n",
    "sc=lr_clf.score(test_features, test_labels)\n",
    "print(\"score: \", sc )"
   ]
  }
 ],
 "metadata": {
  "kernelspec": {
   "display_name": "Python 3",
   "language": "python",
   "name": "python3"
  },
  "language_info": {
   "codemirror_mode": {
    "name": "ipython",
    "version": 3
   },
   "file_extension": ".py",
   "mimetype": "text/x-python",
   "name": "python",
   "nbconvert_exporter": "python",
   "pygments_lexer": "ipython3",
   "version": "3.8.5"
  }
 },
 "nbformat": 4,
 "nbformat_minor": 4
}
